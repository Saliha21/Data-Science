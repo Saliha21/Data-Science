{
  "nbformat": 4,
  "nbformat_minor": 0,
  "metadata": {
    "colab": {
      "provenance": [],
      "authorship_tag": "ABX9TyOFnDX6oW5zMWnFcEK4QRyl",
      "include_colab_link": true
    },
    "kernelspec": {
      "name": "python3",
      "display_name": "Python 3"
    },
    "language_info": {
      "name": "python"
    }
  },
  "cells": [
    {
      "cell_type": "markdown",
      "metadata": {
        "id": "view-in-github",
        "colab_type": "text"
      },
      "source": [
        "<a href=\"https://colab.research.google.com/github/Saliha21/Data-Science/blob/main/MasarDSsaliha.ipynb\" target=\"_parent\"><img src=\"https://colab.research.google.com/assets/colab-badge.svg\" alt=\"Open In Colab\"/></a>"
      ]
    },
    {
      "cell_type": "code",
      "execution_count": 2,
      "metadata": {
        "colab": {
          "base_uri": "https://localhost:8080/"
        },
        "id": "zsVjTnmuYtW5",
        "outputId": "6d090a0c-85eb-4116-d36b-42c9c65b69b5"
      },
      "outputs": [
        {
          "output_type": "stream",
          "name": "stdout",
          "text": [
            "I am gonna be the best DATA Scientist Remember my name Saliha and 29 years old now :) thanks MASAR\n"
          ]
        }
      ],
      "source": [
        "#Define Name Var.\n",
        "\n",
        "#Age Var.\n",
        "\n",
        "name ='Saliha'\n",
        "age = 29\n",
        "\n",
        "\n",
        "print(f'I am gonna be the best DATA Scientist Remember my name {name} and {age} years old now :) thanks MASAR')"
      ]
    }
  ]
}